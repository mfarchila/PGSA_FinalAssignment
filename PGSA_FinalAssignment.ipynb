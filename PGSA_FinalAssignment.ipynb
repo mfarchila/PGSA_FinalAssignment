{
 "cells": [
  {
   "cell_type": "markdown",
   "metadata": {},
   "source": [
    "# Python for Geospatial Analysis - Final Assignment\n",
    "### _Maria Francisca Archila Bustos_"
   ]
  },
  {
   "cell_type": "markdown",
   "metadata": {},
   "source": [
    "Import libraries to use:"
   ]
  },
  {
   "cell_type": "code",
   "execution_count": null,
   "metadata": {},
   "outputs": [],
   "source": [
    "import os\n",
    "import rasterio\n",
    "import numpy as np\n",
    "import pandas as pd\n",
    "import urllib.request\n",
    "import zipfile\n",
    "import matplotlib.pyplot as plt\n",
    "import matplotlib.colors as colors\n",
    "import geopandas as gpd\n",
    "from matplotlib.ticker import LogFormatterExponent\n",
    "from mpl_toolkits.axes_grid1 import make_axes_locatable\n",
    "from pysal.lib import weights\n",
    "from pysal.explore import esda\n",
    "\n",
    "%matplotlib inline"
   ]
  },
  {
   "cell_type": "markdown",
   "metadata": {},
   "source": [
    "## Raster analysis preparations"
   ]
  },
  {
   "cell_type": "markdown",
   "metadata": {},
   "source": [
    "Create a couple of variables that we will use throughout:"
   ]
  },
  {
   "cell_type": "code",
   "execution_count": null,
   "metadata": {},
   "outputs": [],
   "source": [
    "urbanFolder = \"Data/SSP4_Inequality/SSP4/Urban/GeoTIFF\"\n",
    "totalFolder = \"Data/SSP4_Inequality/SSP4/Total/GeoTIFF\""
   ]
  },
  {
   "cell_type": "markdown",
   "metadata": {},
   "source": [
    "Fetch data for later use:"
   ]
  },
  {
   "cell_type": "code",
   "execution_count": null,
   "metadata": {},
   "outputs": [],
   "source": [
    "cntrys = rasterio.open(\"Data/countries.tif\").read(1)"
   ]
  },
  {
   "cell_type": "markdown",
   "metadata": {},
   "source": [
    "Take a look at one dataset (total 2010)"
   ]
  },
  {
   "cell_type": "code",
   "execution_count": null,
   "metadata": {},
   "outputs": [],
   "source": [
    "# Open it\n",
    "pop2010_tif = rasterio.open(totalFolder +  '/ssp4_2010.tif')\n",
    "pop2010_array = pop2010_tif.read(1)\n",
    "\n",
    "# Plot\n",
    "plt.figure(figsize=(14, 14))\n",
    "ax = plt.gca()\n",
    "imgplot = plt.imshow(pop2010_array, norm=colors.LogNorm(), cmap='Greys')\n",
    "\n",
    "# create an axes on the right side of ax. The width of cax will be 5%\n",
    "# of ax and the padding between cax and ax will be fixed at 0.05 inch.\n",
    "# https://stackoverflow.com/questions/18195758/set-matplotlib-colorbar-size-to-match-graph\n",
    "divider = make_axes_locatable(ax)\n",
    "cax = divider.append_axes(\"right\", size=\"5%\", pad=0.05)\n",
    "plt.colorbar(imgplot, cax=cax)\n",
    "\n",
    "# Get summary statistics\n",
    "print(\"Mean population:\",\"{0:,.0f}\".format(np.mean(pop2010_array)))\n",
    "print(\"Minimum population:\",\"{0:,.0f}\".format(np.min(pop2010_array, axis=None)))\n",
    "print(\"Maximum population:\",\"{0:,.0f}\".format(np.max(pop2010_array, axis=None)))\n",
    "print(\"Total population:\",\"{0:,.0f}\".format(np.sum(pop2010_array, axis=None, dtype=np.int64)))"
   ]
  },
  {
   "cell_type": "code",
   "execution_count": null,
   "metadata": {},
   "outputs": [],
   "source": [
    "pop2010_array"
   ]
  },
  {
   "cell_type": "markdown",
   "metadata": {},
   "source": [
    "It seems that no data cells (water) are set to 2147483647. Change these to zero and re-run."
   ]
  },
  {
   "cell_type": "code",
   "execution_count": null,
   "metadata": {},
   "outputs": [],
   "source": [
    "pop2010_array_fx = np.copy(pop2010_array)\n",
    "pop2010_array_fx[pop2010_array_fx == 2147483647] = 0 \n",
    "\n",
    "# Plot\n",
    "plt.figure(figsize=(14, 14))\n",
    "ax = plt.gca()\n",
    "imgplot = plt.imshow(pop2010_array_fx, norm=colors.LogNorm(), cmap='Greys')\n",
    "divider = make_axes_locatable(ax)\n",
    "cax = divider.append_axes(\"right\", size=\"5%\", pad=0.05)\n",
    "plt.colorbar(imgplot, cax=cax)\n",
    "\n",
    "# Get summary statistics\n",
    "print(\"Mean population:\",\"{0:,.0f}\".format(np.mean(pop2010_array_fx)))\n",
    "print(\"Minimum population:\",\"{0:,.0f}\".format(np.min(pop2010_array_fx, axis=None)))\n",
    "print(\"Maximum population:\",\"{0:,.0f}\".format(np.max(pop2010_array_fx, axis=None)))\n",
    "print(\"Total population:\",\"{0:,.0f}\".format(np.sum(pop2010_array_fx, axis=None, dtype=np.int64)))"
   ]
  },
  {
   "cell_type": "markdown",
   "metadata": {},
   "source": [
    "Take a look at the country dataset."
   ]
  },
  {
   "cell_type": "code",
   "execution_count": null,
   "metadata": {},
   "outputs": [],
   "source": [
    "# Plot\n",
    "plt.figure(figsize=(14, 14))\n",
    "ax = plt.gca()\n",
    "imgplot = plt.imshow(cntrys, cmap='Paired')\n",
    "divider = make_axes_locatable(ax)\n",
    "cax = divider.append_axes(\"right\", size=\"5%\", pad=0.05)\n",
    "plt.colorbar(imgplot, cax=cax)\n",
    "\n",
    "# Get summary statistics\n",
    "print(\"Minimum country ID:\",\"{0:f}\".format(np.min(cntrys, axis=None)))\n",
    "print(\"Maximum country ID:\",\"{0:f}\".format(np.max(cntrys, axis=None)))"
   ]
  },
  {
   "cell_type": "code",
   "execution_count": null,
   "metadata": {},
   "outputs": [],
   "source": [
    "cntrys"
   ]
  },
  {
   "cell_type": "markdown",
   "metadata": {},
   "source": [
    "No data cells are set to -99."
   ]
  },
  {
   "cell_type": "markdown",
   "metadata": {},
   "source": [
    "## Raster analysis # 1\n",
    "Write a function that plots the projected total and urban population from 2010 to 2100 for one country in a line chart."
   ]
  },
  {
   "cell_type": "code",
   "execution_count": null,
   "metadata": {},
   "outputs": [],
   "source": [
    "def projectedPopLine (totalFolder, urbanFolder, countryData, countryID):\n",
    "    urbPopList = []\n",
    "    totPopList = []\n",
    "    yrList = []\n",
    "    cntry = countryData == countryID\n",
    "    \n",
    "    for yr in range(2010,2110,10):\n",
    "        # Get the files\n",
    "        tot = rasterio.open(totalFolder +  '/ssp4_' + str(yr) + '.tif').read(1)\n",
    "        urb = rasterio.open(urbanFolder +  '/ssp4urb' + str(yr) + '.tif').read(1)\n",
    "        \n",
    "        # Clean them up by removing no data value\n",
    "        tot[tot == 2147483647] = 0\n",
    "        urb[urb == 2147483647] = 0\n",
    "        \n",
    "        # Get the urban and total population for the selected country and add to the list (in millions)\n",
    "        yrList.append(yr)\n",
    "        totPopList.append(np.sum(tot[cntry])/1000000)\n",
    "        urbPopList.append(np.sum(urb[cntry])/1000000)\n",
    "    \n",
    "    # Create a dataframe of the population per year\n",
    "    pop = {'Total population': totPopList, 'Urban population': urbPopList}\n",
    "    pop_df = pd.DataFrame(data = pop, index = yrList)\n",
    "    \n",
    "    # Plot on a line chart\n",
    "    chart = pop_df.plot(y=['Total population', 'Urban population'], \n",
    "                        title = 'Projected total and urban population \\n in country with ISO: ' + str(countryID),\n",
    "                        rot = 90)\n",
    "    \n",
    "    # Add labels and format\n",
    "    chart.set_xlabel('Year')\n",
    "    chart.set_ylabel('Population (millions)')\n",
    "    chart.ticklabel_format(axis='y', style='plain')\n",
    "    \n",
    "    return chart"
   ]
  },
  {
   "cell_type": "markdown",
   "metadata": {},
   "source": [
    "Plot the total and urban population for Canada (ISO: 124)\n"
   ]
  },
  {
   "cell_type": "code",
   "execution_count": null,
   "metadata": {},
   "outputs": [],
   "source": [
    "output = projectedPopLine(totalFolder, urbanFolder, cntrys, 124)"
   ]
  },
  {
   "cell_type": "markdown",
   "metadata": {},
   "source": [
    "## Raster analysis # 2\n",
    "Generate a global raster that shows only the cells that are projected to lose population, and indicates how much the population in those cells is projected to decline between 2010 and 2100."
   ]
  },
  {
   "cell_type": "code",
   "execution_count": null,
   "metadata": {
    "scrolled": false
   },
   "outputs": [],
   "source": [
    "# Get the two datasets\n",
    "pop2010 = rasterio.open(totalFolder +  '/ssp4_2010.tif').read(1)\n",
    "pop2100 = rasterio.open(totalFolder +  '/ssp4_2100.tif').read(1)\n",
    "\n",
    "# Clean them up by removing no data value\n",
    "pop2010c = np.copy(pop2010)\n",
    "pop2100c = np.copy(pop2100)\n",
    "pop2010c[pop2010c == 2147483647] = 0\n",
    "pop2100c[pop2100c == 2147483647] = 0\n",
    "        \n",
    "# Get the population change\n",
    "popChange = pop2100c - pop2010c\n",
    "\n",
    "# Convert to float so we can set NaN\n",
    "popChange = popChange.astype(dtype=float)\n",
    "\n",
    "# Get the declining population\n",
    "popChange[popChange >= 0] = np.nan\n",
    "\n",
    "# Multiply by -1 to be able to plot log\n",
    "popDecline = popChange * -1\n",
    "\n",
    "# Create background colour ramp (https://stackoverflow.com/questions/9707676/defining-a-discrete-colormap-for-imshow-in-matplotlib)\n",
    "cmap = colors.ListedColormap(['white', '#f0f0f0'])\n",
    "bounds=[-100,0,900]\n",
    "norm = colors.BoundaryNorm(bounds, cmap.N)\n",
    "\n",
    "# Plot the figure\n",
    "fig, (ax1, ax2) = plt.subplots(2,1, figsize=(16,8), gridspec_kw={'height_ratios': [30, 1]})\n",
    "ax1.set_title('Projected global population decline between 2010 and 2100')\n",
    "ax1.axis(\"off\")\n",
    "\n",
    "img1 = ax1.imshow(cntrys, cmap=cmap, norm=norm)\n",
    "img2 = ax1.imshow(popDecline, norm=colors.LogNorm(), cmap='GnBu')\n",
    "\n",
    "cb_label = (\"Log of population decline (number of people less in 2100 as compared to 2010)\"\n",
    "        \"\\n  \\n Notes: Population decline ranges from {:,.0f} to {:,.0f} people per cell during this period\"\n",
    "        \"\\n Areas in grey are places which are projected to experience growth or no change\".format(np.nanmin(popDecline),np.nanmax(popDecline))\n",
    "        )\n",
    "cb = fig.colorbar(img2, cax=ax2, orientation= \"horizontal\", format = '%1.0f') \n",
    "cb.set_label(cb_label)\n",
    "\n",
    "plt.show()"
   ]
  },
  {
   "cell_type": "markdown",
   "metadata": {},
   "source": [
    "## Spatial autocorrelation preparations"
   ]
  },
  {
   "cell_type": "markdown",
   "metadata": {},
   "source": [
    "Get the required data:"
   ]
  },
  {
   "cell_type": "code",
   "execution_count": null,
   "metadata": {},
   "outputs": [],
   "source": [
    "# World shapefile\n",
    "nd_url = \"https://www.naturalearthdata.com/http//www.naturalearthdata.com/download/110m/cultural/ne_110m_admin_0_countries.zip\"\n",
    "    \n",
    "if os.path.isfile('Data/ne_110m_admin_0_countries.shp'):\n",
    "    print(\"World file already downloaded and unzipped.\")\n",
    "else:\n",
    "    urllib.request.urlretrieve(nd_url, \"NatureData.zip\")\n",
    "    zf = zipfile.ZipFile(\"NatureData.zip\")\n",
    "    zf.extractall(path = 'Data/')\n",
    "    zf.close()\n",
    "    os.remove(\"NatureData.zip\") # clean up\n",
    "    print(\"Download and unzip complete.\")\n",
    "\n",
    "world = gpd.read_file(\"Data/ne_110m_admin_0_countries.shp\")\n",
    "\n",
    "# Mortality csv\n",
    "mortality = pd.read_csv('Data/under5mortality.csv')"
   ]
  },
  {
   "cell_type": "markdown",
   "metadata": {},
   "source": [
    "Examine the data:"
   ]
  },
  {
   "cell_type": "code",
   "execution_count": null,
   "metadata": {},
   "outputs": [],
   "source": [
    "world.head()"
   ]
  },
  {
   "cell_type": "code",
   "execution_count": null,
   "metadata": {},
   "outputs": [],
   "source": [
    "world.columns\n"
   ]
  },
  {
   "cell_type": "code",
   "execution_count": null,
   "metadata": {},
   "outputs": [],
   "source": [
    "world.loc[:, ['ISO_A3']].dtypes"
   ]
  },
  {
   "cell_type": "code",
   "execution_count": null,
   "metadata": {},
   "outputs": [],
   "source": [
    "fig, ax = plt.subplots(figsize=(16,8))\n",
    "worldplot = world.plot(ax=ax)"
   ]
  },
  {
   "cell_type": "code",
   "execution_count": null,
   "metadata": {},
   "outputs": [],
   "source": [
    "mortality.head()"
   ]
  },
  {
   "cell_type": "code",
   "execution_count": null,
   "metadata": {},
   "outputs": [],
   "source": [
    "mortality.columns"
   ]
  },
  {
   "cell_type": "code",
   "execution_count": null,
   "metadata": {},
   "outputs": [],
   "source": [
    "mortality.loc[:,['ISO']].dtypes"
   ]
  },
  {
   "cell_type": "markdown",
   "metadata": {},
   "source": [
    "## Spatial autocorrelation # 1\n",
    "Perform a left join between the world shapefile and the child mortality rates.\n",
    "\n",
    "_A left join will keep all countries, regardless of whether or not they have a reported child mortality rate. Countries with no reported child mortality rate will be given a null (NaN) value._"
   ]
  },
  {
   "cell_type": "code",
   "execution_count": null,
   "metadata": {},
   "outputs": [],
   "source": [
    "# Keep only relevant columns\n",
    "world_rel = world.loc[:,['ISO_A3','NAME_EN', 'geometry']]\n",
    "mortality_rel= mortality.loc[:,['ISO','ChildMortality']]\n",
    "mort_by_cntry = pd.merge(world_rel, mortality_rel, left_on='ISO_A3', right_on='ISO', how='left')\n",
    "mort_by_cntry.columns"
   ]
  },
  {
   "cell_type": "markdown",
   "metadata": {},
   "source": [
    "Examine the result:"
   ]
  },
  {
   "cell_type": "code",
   "execution_count": null,
   "metadata": {},
   "outputs": [],
   "source": [
    "mort_by_cntry.head()"
   ]
  },
  {
   "cell_type": "markdown",
   "metadata": {},
   "source": [
    "There are some countries with no child mortality data. Take a look at these."
   ]
  },
  {
   "cell_type": "code",
   "execution_count": null,
   "metadata": {
    "scrolled": false
   },
   "outputs": [],
   "source": [
    "mort_by_cntry[mort_by_cntry['ChildMortality'].isnull()]"
   ]
  },
  {
   "cell_type": "markdown",
   "metadata": {},
   "source": [
    "Most of these are small islands or countries where data may not be available. However, it is strange that Norway and France do not have ISO values and therefore did not participate in the join. The other countries with no ISO codes likely are not in the child mortality file. \n",
    "\n",
    "Take a look at the child mortality file for France and Norway."
   ]
  },
  {
   "cell_type": "code",
   "execution_count": null,
   "metadata": {},
   "outputs": [],
   "source": [
    "mortality[mortality['ISO'].isin(['FRA', 'NOR'])]"
   ]
  },
  {
   "cell_type": "markdown",
   "metadata": {},
   "source": [
    "Both Norway and France have child mortality values. Take a look in the world data to determine if there are, perhaps, duplicate polygons for these countries."
   ]
  },
  {
   "cell_type": "code",
   "execution_count": null,
   "metadata": {},
   "outputs": [],
   "source": [
    "world[world['ISO_A3'].isin(['FRA', 'NOR'])]"
   ]
  },
  {
   "cell_type": "markdown",
   "metadata": {},
   "source": [
    "Since Norway and France appear to exist only once in the data but without ISO codes, but they both have child mortality values, update these."
   ]
  },
  {
   "cell_type": "code",
   "execution_count": null,
   "metadata": {},
   "outputs": [],
   "source": [
    "# France\n",
    "mort_by_cntry.loc[43,['ChildMortality']] = 4.2\n",
    "\n",
    "# Norway\n",
    "mort_by_cntry.loc[21,['ChildMortality']] = 2.6\n",
    "\n",
    "mort_by_cntry.loc[[21,43]]"
   ]
  },
  {
   "cell_type": "markdown",
   "metadata": {},
   "source": [
    "## Spatial autocorrelation # 2\n",
    "Calculate the spatial weights matrix based on border neighbourhood and use the weights to calculate Moran's I for child mortality."
   ]
  },
  {
   "cell_type": "code",
   "execution_count": null,
   "metadata": {},
   "outputs": [],
   "source": [
    "# In order to calculate Moran's I NaN values are removed. \n",
    "# This means that the neighbourhood is calculated between adjacent neighbours with data.\n",
    "mort_by_cntry_nonan = mort_by_cntry.dropna(subset=['ChildMortality'])\n",
    "mort_by_cntry_nonan.reset_index(drop=True, inplace=True)\n",
    "\n",
    "w_queen = weights.Queen.from_dataframe(mort_by_cntry_nonan)\n",
    "\n",
    "# Show the weights matrix\n",
    "pd.DataFrame(w_queen.full()[0], \n",
    "             index=mort_by_cntry_nonan['ISO_A3'],\n",
    "             columns=mort_by_cntry_nonan['ISO_A3'],\n",
    "            ).astype(int)\n"
   ]
  },
  {
   "cell_type": "markdown",
   "metadata": {},
   "source": [
    "There are some disconnected observations. These are assumed to be actual islands that do not have any contiguous neighbourhood. Below we will check them."
   ]
  },
  {
   "cell_type": "code",
   "execution_count": null,
   "metadata": {},
   "outputs": [],
   "source": [
    "mort_by_cntry_nonan.loc[[0, 18, 41, 42, 73, 84, 129, 130, 131, 132, 137, 140, 148, 152, 164]]"
   ]
  },
  {
   "cell_type": "markdown",
   "metadata": {},
   "source": [
    "The assumption was correct. We will thus ignore this warning and use our spatial weights matrix to calculate Moran's I. First, I want to take a look at the matrix as a map."
   ]
  },
  {
   "cell_type": "code",
   "execution_count": null,
   "metadata": {},
   "outputs": [],
   "source": [
    "fig, ax = plt.subplots(figsize=(16,8))\n",
    "ax.set_aspect('equal')\n",
    "mort_by_cntry_nonan.plot(ax=ax, color='white', edgecolor='grey', linewidth=0.5)\n",
    "w_queen.plot(mort_by_cntry_nonan, ax=ax, color='red')\n",
    "plt.show()"
   ]
  },
  {
   "cell_type": "markdown",
   "metadata": {},
   "source": [
    "Calculate Moran's I using the spatial weights matrix."
   ]
  },
  {
   "cell_type": "code",
   "execution_count": null,
   "metadata": {},
   "outputs": [],
   "source": [
    "moran = esda.Moran(mort_by_cntry_nonan['ChildMortality'], w_queen)\n",
    "\n",
    "print(\"Moran's I for child mortality by country is {:0.3f} with a p-value of {:0.3f}\".format(moran.I, moran.p_sim))"
   ]
  }
 ],
 "metadata": {
  "kernelspec": {
   "display_name": "Python 3",
   "language": "python",
   "name": "python3"
  },
  "language_info": {
   "codemirror_mode": {
    "name": "ipython",
    "version": 3
   },
   "file_extension": ".py",
   "mimetype": "text/x-python",
   "name": "python",
   "nbconvert_exporter": "python",
   "pygments_lexer": "ipython3",
   "version": "3.7.3"
  }
 },
 "nbformat": 4,
 "nbformat_minor": 2
}
